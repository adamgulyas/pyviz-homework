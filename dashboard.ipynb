{
 "cells": [
  {
   "cell_type": "markdown",
   "metadata": {},
   "source": [
    "# Toronto Dwellings Analysis Dashboard\n",
    "\n",
    "In this notebook, we compile the visualizations from the previous analysis to create a Panel dashboard."
   ]
  },
  {
   "cell_type": "code",
   "execution_count": 107,
   "metadata": {},
   "outputs": [],
   "source": [
    "# imports\n",
    "import panel as pn\n",
    "pn.extension('plotly')\n",
    "import plotly.express as px\n",
    "import pandas as pd\n",
    "import hvplot.pandas\n",
    "import matplotlib.pyplot as plt\n",
    "import os\n",
    "from pathlib import Path\n",
    "from dotenv import load_dotenv"
   ]
  },
  {
   "cell_type": "code",
   "execution_count": 108,
   "metadata": {},
   "outputs": [],
   "source": [
    "# Initialize the Panel Extensions (for Plotly)\n",
    "import panel as pn\n",
    "pn.extension(\"plotly\")"
   ]
  },
  {
   "cell_type": "code",
   "execution_count": 109,
   "metadata": {},
   "outputs": [],
   "source": [
    "# Read the Mapbox API key\n",
    "load_dotenv()\n",
    "mapbox_api_key = os.getenv(\"MAPBOX_API_KEY\")\n",
    "px.set_mapbox_access_token(mapbox_api_key)"
   ]
  },
  {
   "cell_type": "markdown",
   "metadata": {},
   "source": [
    "# Import Data"
   ]
  },
  {
   "cell_type": "code",
   "execution_count": 110,
   "metadata": {},
   "outputs": [],
   "source": [
    "# Import the CSVs to Pandas DataFrames\n",
    "file_path = Path(\"./data/toronto_neighbourhoods_census_data.csv\")\n",
    "to_data = pd.read_csv(file_path, index_col=\"year\")\n",
    "\n",
    "file_path = Path(\"./data/toronto_neighbourhoods_coordinates.csv\")\n",
    "neighbourhood_locations = pd.read_csv(file_path)"
   ]
  },
  {
   "cell_type": "markdown",
   "metadata": {},
   "source": [
    "- - -"
   ]
  },
  {
   "cell_type": "markdown",
   "metadata": {},
   "source": [
    "## Panel Visualizations\n",
    "\n",
    "In this section, functions are declared to manipulate data and create plots."
   ]
  },
  {
   "cell_type": "markdown",
   "metadata": {},
   "source": [
    "### Global available data"
   ]
  },
  {
   "cell_type": "code",
   "execution_count": 111,
   "metadata": {},
   "outputs": [],
   "source": [
    "# Getting the data from the top 10 expensive neighbourhoods\n",
    "def top_ten_expensive_neighbourhoods(data):\n",
    "    \n",
    "    most_expensive_neighbourhoods = (\n",
    "        data[['neighbourhood', 'average_house_value']]\n",
    "        .groupby(['neighbourhood'])\n",
    "        .mean()\n",
    "        .sort_values(by='average_house_value', ascending=False)\n",
    "    )\n",
    "\n",
    "    return most_expensive_neighbourhoods[:10]\n",
    "\n",
    "\n",
    "# Calculate the mean number of dwelling types units per year\n",
    "def mean_dwelling_types_per_year(data):\n",
    "\n",
    "    dwelling_types = data.drop(columns=data.iloc[:,9:])\n",
    "\n",
    "    mean_dwelling_types_per_year = (\n",
    "        dwelling_types\n",
    "        .groupby([dwelling_types.index, 'neighbourhood'])\n",
    "        .mean()\n",
    "        .astype(int)\n",
    "    )\n",
    "\n",
    "    return mean_dwelling_types_per_year\n",
    "\n",
    "# Calculate the average monthly shelter costs for owned and rented dwellings\n",
    "def average_monthly_shelter_costs(data):\n",
    "\n",
    "    average_monthly_shelter_costs_per_year = (\n",
    "        data[['shelter_costs_owned', 'shelter_costs_rented']]\n",
    "        .groupby([to_data.index])\n",
    "        .mean()\n",
    "        .round(2)\n",
    "    )\n",
    "\n",
    "    return average_monthly_shelter_costs_per_year\n"
   ]
  },
  {
   "cell_type": "markdown",
   "metadata": {},
   "source": [
    "### Panel Visualization Functions"
   ]
  },
  {
   "cell_type": "code",
   "execution_count": 112,
   "metadata": {},
   "outputs": [],
   "source": [
    "# Define Panel visualization functions\n",
    "def neighbourhood_map(data):\n",
    "    \"\"\"Neighbourhood Map\"\"\"\n",
    "    average_house_value = average_house_value_by_neighbourhood(data)\n",
    "\n",
    "    scatter_plot = px.scatter_mapbox(\n",
    "        average_house_value,\n",
    "        lat='lat',\n",
    "        lon='lon',\n",
    "        color='average_house_value',\n",
    "        size='average_house_value',\n",
    "        color_continuous_scale='Viridis',\n",
    "        size_max=11,\n",
    "        zoom=9.2,\n",
    "        mapbox_style='carto-positron',\n",
    "        hover_data={\n",
    "            'neighbourhood': True,\n",
    "            'lat': False,\n",
    "            'lon': False\n",
    "        }\n",
    "    )\n",
    "\n",
    "    return scatter_plot\n",
    "    \n",
    "\n",
    "def create_bar_chart(data, title, xlabel, ylabel, color):\n",
    "    \"\"\"\n",
    "    Create a barplot based in the data argument.\n",
    "    \"\"\"\n",
    "    bar_chart = data.hvplot.bar(\n",
    "        xlabel=xlabel, \n",
    "        ylabel=ylabel, \n",
    "        color=color, \n",
    "        title=title,\n",
    "        height=500,\n",
    "        rot=90\n",
    "    )\n",
    "\n",
    "    return bar_chart\n",
    "\n",
    "def create_bar_chart_row_facet(data, title, xlabel, ylabel, color):\n",
    "    \"\"\"\n",
    "    Create a barplot based in the data argument.\n",
    "    \"\"\"\n",
    "    bar_chart_row_facet = px.bar(\n",
    "        data,\n",
    "        x=xlabel, \n",
    "        y=ylabel, \n",
    "        color=color, \n",
    "        title=title,\n",
    "        height=1000,\n",
    "        facet_row='Year'\n",
    "    )\n",
    "\n",
    "    return bar_chart_row_facet\n",
    "    \n",
    "\n",
    "def create_line_chart(data, title, xlabel, ylabel, color):\n",
    "    \"\"\"\n",
    "    Create a line chart based in the data argument.\n",
    "    \"\"\"\n",
    "    line_chart = data.hvplot.line(\n",
    "        xlabel=xlabel, \n",
    "        ylabel=ylabel, \n",
    "        color=color, \n",
    "        title=title, \n",
    "        figsize=(15,5)\n",
    "    )\n",
    "\n",
    "    return line_chart\n",
    "    \n",
    "\n",
    "def average_house_value(data):\n",
    "    \"\"\"\n",
    "    Average house values per year.\n",
    "    \"\"\"\n",
    "    average_house_value_per_year = (\n",
    "        data[['average_house_value']]\n",
    "        .groupby([data.index])\n",
    "        .mean()\n",
    "        .round(2)\n",
    "    )\n",
    "\n",
    "    return average_house_value_per_year\n",
    "    \n",
    "\n",
    "def average_house_value_by_neighbourhood(data):\n",
    "    \"\"\"\n",
    "    Average house values by neighbourhood.\n",
    "    \"\"\"\n",
    "    neighbourhood_mean_values = (\n",
    "        data\n",
    "        .groupby(['neighbourhood'])\n",
    "        .mean()\n",
    "    )\n",
    "\n",
    "    merged_housing_data = neighbourhood_locations.merge(\n",
    "        neighbourhood_mean_values, \n",
    "        left_on='neighbourhood', \n",
    "        right_on='neighbourhood'\n",
    "    )\n",
    "\n",
    "    return merged_housing_data\n",
    "    \n",
    "\n",
    "def number_dwelling_types(data):\n",
    "    \"\"\"\n",
    "    Number of dwelling types per year\n",
    "    \"\"\"\n",
    "    dwelling_types_per_year = (\n",
    "        data\n",
    "        .groupby([data.index])\n",
    "        .sum()\n",
    "    )\n",
    "\n",
    "    dwelling_types_per_year.drop(columns=[\n",
    "            'average_house_value', \n",
    "            'shelter_costs_owned', \n",
    "            'shelter_costs_rented'\n",
    "        ], \n",
    "        inplace=True\n",
    "    )\n",
    "\n",
    "    return dwelling_types_per_year\n",
    "    \n",
    "\n",
    "def average_house_value_snapshot(data):\n",
    "    \"\"\"\n",
    "    Average house value for all Toronto's neighbourhoods per year.\n",
    "    \"\"\"\n",
    "    average_house_value_snapshot = (\n",
    "        average_house_value_by_neighbourhood(data)\n",
    "    )\n",
    "\n",
    "    average_house_value_snapshot.reset_index(inplace=True)\n",
    "\n",
    "    average_house_value_snapshot.columns = [\n",
    "        'Year', \n",
    "        'Neighbourhood', \n",
    "        'Avg. House Value'\n",
    "    ]\n",
    "\n",
    "    return average_house_value_snapshot\n",
    "    \n",
    "\n",
    "def top_most_expensive_neighbourhoods(data):\n",
    "    \"\"\"\n",
    "    Top 10 most expensive neighbourhoods.\n",
    "    \"\"\"\n",
    "    top_ten_2001 = data[data['year'] == 2001][:10]\n",
    "    top_ten_2011 = data[data['year'] == 2011][:10]\n",
    "    top_ten_2006 = data[data['year'] == 2006][:10]\n",
    "    top_ten_2016 = data[data['year'] == 2016][:10]\n",
    "\n",
    "    # Join the dataframes\n",
    "    top_ten_expensive_neighbourhoods_per_year = pd.concat(\n",
    "        [top_ten_2001, top_ten_2006, top_ten_2011, top_ten_2016], \n",
    "        join='inner', \n",
    "        axis='rows'\n",
    "    )\n",
    "    \n",
    "\n",
    "def sunburts_cost_analysis(data):\n",
    "    \"\"\"\n",
    "    Sunburst chart to conduct a costs analysis of most expensive\n",
    "    neighbourhoods in Toronto per year.\n",
    "    \"\"\"\n",
    "    sunburst_chart = px.sunburst(\n",
    "        data, \n",
    "        path=['year', 'neighbourhood'], \n",
    "        values='average_house_value', \n",
    "        color='average_house_value', \n",
    "        color_continuous_scale='blues',\n",
    "    )\n",
    "\n",
    "    return sunburst_chart\n",
    "    "
   ]
  },
  {
   "cell_type": "markdown",
   "metadata": {},
   "source": [
    "## Panel Dashboard\n",
    "\n",
    "Finally, all plots are combined into a single dashboard view using Panel."
   ]
  },
  {
   "cell_type": "markdown",
   "metadata": {},
   "source": [
    "### Create the Welcome view"
   ]
  },
  {
   "cell_type": "code",
   "execution_count": 113,
   "metadata": {},
   "outputs": [],
   "source": [
    "# Create a Title for the Dashboard\n",
    "dashboard_title = pn.Column(\n",
    "    '## Real Estate Analysis of Toronto from 2001 to 2016'\n",
    ")\n",
    "\n",
    "# Define a welcome text\n",
    "welcome_message = '''\n",
    "Welcome to Toronto's Real Estate Analysis dashboard. In this dashboard \n",
    "you will find historical house values, dwelling types by neghbourhood and \n",
    "their associated costs over the years. Navigate through the tabs above to \n",
    "see more details on the evolution of Toronto's real estate market.\"\n",
    "'''\n",
    "\n",
    "# Create the Welcome view\n",
    "scatter_plot = neighbourhood_map(to_data)\n",
    "welcome_column = pn.Column(\n",
    "    welcome_message,\n",
    "    scatter_plot\n",
    ")"
   ]
  },
  {
   "cell_type": "markdown",
   "metadata": {},
   "source": [
    "### Create the Yearly Market Analysis view"
   ]
  },
  {
   "cell_type": "code",
   "execution_count": 114,
   "metadata": {},
   "outputs": [],
   "source": [
    "\n",
    "# Get the mean number of dwelling types per year\n",
    "dwelling_types_per_year = number_dwelling_types(to_data)\n",
    "\n",
    "# Plot data for each year\n",
    "bar_chart_2001 = create_bar_chart(\n",
    "    dwelling_types_per_year.loc[2001], \n",
    "    'Dwelling Types in Toronto in 2001', \n",
    "    '2001', \n",
    "    'Dwelling Type Units', \n",
    "    'DodgerBlue'\n",
    ")\n",
    "\n",
    "bar_chart_2006 = create_bar_chart(\n",
    "    dwelling_types_per_year.loc[2006], \n",
    "    'Dwelling Types in Toronto in 2006', \n",
    "    '2006', \n",
    "    'Dwelling Type Units', \n",
    "    'DeepPink'\n",
    ")\n",
    "\n",
    "bar_chart_2011 = create_bar_chart(\n",
    "    dwelling_types_per_year.loc[2011], \n",
    "    'Dwelling Types in Toronto in 2006', \n",
    "    '2011', \n",
    "    'Dwelling Type Units', \n",
    "    'LimeGreen'\n",
    ")\n",
    "\n",
    "bar_chart_2016 = create_bar_chart(\n",
    "    dwelling_types_per_year.loc[2016], \n",
    "    'Dwelling Types in Toronto in 2016', \n",
    "    '2016', \n",
    "    'Dwelling Type Units', \n",
    "    'DarkViolet'\n",
    ")\n",
    "\n",
    "# Create the Yearly Market Analysis view\n",
    "yearly_market_analysis_column = pn.Column(\n",
    "    pn.Row(bar_chart_2001, bar_chart_2006),\n",
    "    pn.Row(bar_chart_2011, bar_chart_2016),\n",
    ")"
   ]
  },
  {
   "cell_type": "markdown",
   "metadata": {},
   "source": [
    "### Create the Shelter Costs vs. House Value view"
   ]
  },
  {
   "cell_type": "code",
   "execution_count": 115,
   "metadata": {},
   "outputs": [],
   "source": [
    "average_monthly_shelter_costs = average_monthly_shelter_costs(to_data)\n",
    "\n",
    "shelter_costs_owned_chart = create_line_chart(\n",
    "    average_monthly_shelter_costs[['shelter_costs_owned']], \n",
    "    'Average Monthly Shelter Cost for Owned Dwellings in Toronto', \n",
    "    'Year', \n",
    "    'average. Monthly Shelter Cost', \n",
    "    'DodgerBlue'\n",
    ")\n",
    "\n",
    "# Line chart for rented dwellings\n",
    "shelter_costs_rented_chart = create_line_chart(\n",
    "    average_monthly_shelter_costs[['shelter_costs_rented']], \n",
    "    'Average Monthly Shelter Cost for Rented Dwellings in Toronto', \n",
    "    'Year', \n",
    "    'average. Monthly Shelter Cost', \n",
    "    'DeepPink'\n",
    ")\n",
    "\n",
    "average_house_value_per_year = average_house_value(to_data)\n",
    "\n",
    "average_house_value_chart = create_line_chart(\n",
    "    average_house_value_per_year, \n",
    "    'Average House Value in Toronto', \n",
    "    'Year', \n",
    "    'Avg. House Value', \n",
    "    'DodgerBlue'\n",
    ")\n",
    "\n",
    "shelter_costs_column = pn.Column(\n",
    "    shelter_costs_owned_chart,\n",
    "    shelter_costs_rented_chart,\n",
    "    average_house_value_chart\n",
    ")"
   ]
  },
  {
   "cell_type": "markdown",
   "metadata": {},
   "source": [
    "### Create the Neighbourhood Analysis view"
   ]
  },
  {
   "cell_type": "code",
   "execution_count": 116,
   "metadata": {},
   "outputs": [],
   "source": [
    "# average_house_values = average_house_value_snapshot(to_data)\n",
    "\n",
    "# average_house_values_chart = create_bar_chart_row_facet(\n",
    "#     average_house_values,\n",
    "#     \"Average House Values in Toronto per Neighbourhood\",\n",
    "#     'Neighbourhood', \n",
    "#     'Avg. House Value', \n",
    "#     'Avg. House Value',\n",
    "# )\n",
    "\n",
    "# neighbourhood_analysis_column = pn.Column(\n",
    "#     shelter_costs_owned_chart,\n",
    "#     shelter_costs_rented_chart,\n",
    "#     average_house_value_chart\n",
    "# )"
   ]
  },
  {
   "cell_type": "markdown",
   "metadata": {},
   "source": [
    "### Group views into tabs"
   ]
  },
  {
   "cell_type": "code",
   "execution_count": 117,
   "metadata": {},
   "outputs": [],
   "source": [
    "tabs = pn.Tabs(\n",
    "    (\"Welcome\", welcome_column),\n",
    "    (\"Yearly Market Analysis\", yearly_market_analysis_column),\n",
    "    # (\"Shelter Costs vs. House Value\", shelter_costs_column),\n",
    "    # (\"Neighbourhood Analysis\", geo_column),\n",
    ")\n",
    "\n",
    "# Create a tab layout for the dashboard\n",
    "dashboard = pn.Column(\n",
    "    \"## Toronto Real Estate Analysis from 2001 to 2016\",\n",
    "    tabs\n",
    ")\n",
    "\n",
    "    # (\"Top Expensive Neighbourhoods\", geo_column),"
   ]
  },
  {
   "cell_type": "markdown",
   "metadata": {},
   "source": [
    "## Serve the Panel Dashboard"
   ]
  },
  {
   "cell_type": "code",
   "execution_count": 118,
   "metadata": {},
   "outputs": [
    {
     "data": {
      "application/vnd.jupyter.widget-view+json": {
       "model_id": "3f9b61897aee47b49c0299d97013658b",
       "version_major": 2,
       "version_minor": 0
      },
      "text/plain": [
       "BokehModel(combine_events=True, render_bundle={'docs_json': {'7cebb30d-0a7e-42e2-b17d-741efb313647': {'defs': …"
      ]
     },
     "metadata": {},
     "output_type": "display_data"
    },
    {
     "data": {
      "text/html": [
       "<div style=\"display: none\"></div>"
      ],
      "text/plain": [
       "Column\n",
       "    [0] Markdown(str)\n",
       "    [1] Tabs\n",
       "        [0] Column\n",
       "            [0] Markdown(str)\n",
       "            [1] Plotly(Figure)\n",
       "        [1] Column\n",
       "            [0] Markdown(str)\n",
       "            [1] Row\n",
       "                [0] HoloViews(Bars)\n",
       "                [1] HoloViews(Bars)\n",
       "            [2] Row\n",
       "                [0] HoloViews(Bars)\n",
       "                [1] HoloViews(Bars)"
      ]
     },
     "execution_count": 118,
     "metadata": {},
     "output_type": "execute_result"
    }
   ],
   "source": [
    "dashboard.servable()"
   ]
  },
  {
   "cell_type": "markdown",
   "metadata": {},
   "source": [
    "# Debugging\n",
    "\n",
    "Note: Some of the Plotly express plots may not render in the notebook through the panel functions.\n",
    "\n",
    "However, you can test each plot by uncommenting the following code"
   ]
  },
  {
   "cell_type": "code",
   "execution_count": 119,
   "metadata": {},
   "outputs": [],
   "source": [
    "# neighbourhood_map(to_data).show()"
   ]
  },
  {
   "cell_type": "code",
   "execution_count": 120,
   "metadata": {},
   "outputs": [],
   "source": [
    "# create_bar_chart(data, title, xlabel, ylabel, color)\n",
    "\n",
    "# # Bar chart for 2001\n",
    "# create_bar_chart(df_dwelling_units.loc[2001], \"Dwelling Types in Toronto in 2001\", \"2001\", \"Dwelling Type Units\", \"red\")\n",
    "\n",
    "# # Bar chart for 2006\n",
    "# create_bar_chart(df_dwelling_units.loc[2006], \"Dwelling Types in Toronto in 2006\", \"2006\", \"Dwelling Type Units\", \"blue\")\n",
    "\n",
    "# # Bar chart for 2011\n",
    "# create_bar_chart(df_dwelling_units.loc[2011], \"Dwelling Types in Toronto in 2011\", \"2011\", \"Dwelling Type Units\", \"orange\")\n",
    "\n",
    "# # Bar chart for 2016\n",
    "# create_bar_chart(df_dwelling_units.loc[2016], \"Dwelling Types in Toronto in 2016\", \"2016\", \"Dwelling Type Units\", \"magenta\")"
   ]
  },
  {
   "cell_type": "code",
   "execution_count": 121,
   "metadata": {},
   "outputs": [],
   "source": [
    "# create_line_chart(data, title, xlabel, ylabel, color)\n",
    "\n",
    "# # Line chart for owned dwellings\n",
    "# create_line_chart(df_avg_costs[\"shelter_costs_owned\"], \"Average Monthly Shelter Cost for Owned Dwellings in Toronto\", \"Year\", \"Avg Monthly Shelter Costs\", \"blue\")\n",
    "\n",
    "# # Line chart for rented dwellings\n",
    "# create_line_chart(df_avg_costs[\"shelter_costs_rented\"], \"Average Monthly Shelter Cost for Rented Dwellings in Toronto\", \"Year\", \"Avg Monthly Shelter Costs\", \"orange\")"
   ]
  },
  {
   "cell_type": "code",
   "execution_count": 122,
   "metadata": {},
   "outputs": [],
   "source": [
    "# average_house_value()"
   ]
  },
  {
   "cell_type": "code",
   "execution_count": 123,
   "metadata": {},
   "outputs": [],
   "source": [
    "# average_value_by_neighbourhood()"
   ]
  },
  {
   "cell_type": "code",
   "execution_count": 124,
   "metadata": {},
   "outputs": [],
   "source": [
    "# number_dwelling_types()"
   ]
  },
  {
   "cell_type": "code",
   "execution_count": 125,
   "metadata": {},
   "outputs": [],
   "source": [
    "# average_house_value_snapshot()"
   ]
  },
  {
   "cell_type": "code",
   "execution_count": 126,
   "metadata": {},
   "outputs": [],
   "source": [
    "# top_most_expensive_neighbourhoods()"
   ]
  },
  {
   "cell_type": "code",
   "execution_count": 127,
   "metadata": {},
   "outputs": [],
   "source": [
    "# sunburts_cost_analysis()"
   ]
  }
 ],
 "metadata": {
  "file_extension": ".py",
  "interpreter": {
   "hash": "70258ac2307775ea3b2356ae640b2cec78ea29d8e88ec85f576a7eb81644faaf"
  },
  "kernelspec": {
   "display_name": "Python [conda env:pyvizenv25] *",
   "language": "python",
   "name": "python3"
  },
  "language_info": {
   "codemirror_mode": {
    "name": "ipython",
    "version": 3
   },
   "file_extension": ".py",
   "mimetype": "text/x-python",
   "name": "python",
   "nbconvert_exporter": "python",
   "pygments_lexer": "ipython3",
   "version": "3.7.11"
  },
  "mimetype": "text/x-python",
  "name": "python",
  "npconvert_exporter": "python",
  "pygments_lexer": "ipython3",
  "version": 3
 },
 "nbformat": 4,
 "nbformat_minor": 4
}
