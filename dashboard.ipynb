{
 "cells": [
  {
   "cell_type": "markdown",
   "metadata": {},
   "source": [
    "# Toronto Dwellings Analysis Dashboard\n",
    "\n",
    "In this notebook, you will compile the visualizations from the previous analysis into functions to create a Panel dashboard."
   ]
  },
  {
   "cell_type": "code",
   "execution_count": null,
   "metadata": {},
   "outputs": [],
   "source": [
    "# imports\n",
    "import panel as pn\n",
    "pn.extension('plotly')\n",
    "import plotly.express as px\n",
    "import pandas as pd\n",
    "import hvplot.pandas\n",
    "import matplotlib.pyplot as plt\n",
    "import os\n",
    "from pathlib import Path\n",
    "from dotenv import load_dotenv"
   ]
  },
  {
   "cell_type": "code",
   "execution_count": null,
   "metadata": {},
   "outputs": [],
   "source": [
    "# Initialize the Panel Extensions (for Plotly)\n",
    "import panel as pn\n",
    "pn.extension(\"plotly\")"
   ]
  },
  {
   "cell_type": "code",
   "execution_count": null,
   "metadata": {},
   "outputs": [],
   "source": [
    "# Read the Mapbox API key\n",
    "load_dotenv()\n",
    "map_box_api = os.getenv(\"mapbox\")\n",
    "px.set_mapbox_access_token(map_box_api)"
   ]
  },
  {
   "cell_type": "markdown",
   "metadata": {},
   "source": [
    "# Import Data"
   ]
  },
  {
   "cell_type": "code",
   "execution_count": null,
   "metadata": {},
   "outputs": [],
   "source": [
    "# Import the CSVs to Pandas DataFrames\n",
    "file_path = Path(\"Data/toronto_neighbourhoods_census_data.csv\")\n",
    "to_data = pd.read_csv(file_path, index_col=\"year\")\n",
    "\n",
    "file_path = Path(\"Data/toronto_neighbourhoods_coordinates.csv\")\n",
    "df_neighbourhood_locations = pd.read_csv(file_path)"
   ]
  },
  {
   "cell_type": "markdown",
   "metadata": {},
   "source": [
    "- - -"
   ]
  },
  {
   "cell_type": "markdown",
   "metadata": {},
   "source": [
    "## Panel Visualizations\n",
    "\n",
    "In this section, you will copy the code for each plot type from your analysis notebook and place it into separate functions that Panel can use to create panes for the dashboard. \n",
    "\n",
    "These functions will convert the plot object to a Panel pane.\n",
    "\n",
    "Be sure to include any DataFrame transformation/manipulation code required along with the plotting code.\n",
    "\n",
    "Return a Panel pane object from each function that can be used to build the dashboard.\n",
    "\n",
    "Note: Remove any `.show()` lines from the code. We want to return the plots instead of showing them. The Panel dashboard will then display the plots."
   ]
  },
  {
   "cell_type": "markdown",
   "metadata": {},
   "source": [
    "### Global available data"
   ]
  },
  {
   "cell_type": "code",
   "execution_count": null,
   "metadata": {},
   "outputs": [],
   "source": [
    "# Getting the data from the top 10 expensive neighbourhoods\n",
    "def top_ten_expensive_neighbourhoods(data):\n",
    "    \n",
    "    most_expensive_neighbourhoods = (\n",
    "        data[['neighbourhood', 'average_house_value']]\n",
    "        .groupby(['neighbourhood'])\n",
    "        .mean()\n",
    "        .sort_values(by='average_house_value', ascending=False)\n",
    "    )\n",
    "\n",
    "    return most_expensive_neighbourhoods[:10]\n",
    "\n",
    "\n",
    "# Calculate the mean number of dwelling types units per year\n",
    "def mean_dwelling_types_per_year(data):\n",
    "\n",
    "    dwelling_types = data.drop(columns=data.iloc[:,9:])\n",
    "\n",
    "    mean_dwelling_types_per_year = (\n",
    "        dwelling_types\n",
    "        .groupby([dwelling_types.index, 'neighbourhood'])\n",
    "        .mean()\n",
    "        .astype(int)\n",
    "    )\n",
    "\n",
    "    return mean_dwelling_types_per_year\n",
    "\n",
    "# Calculate the average monthly shelter costs for owned and rented dwellings\n",
    "def average_monthly_shelter_costs(data):\n",
    "\n",
    "    average_monthly_shelter_costs_per_year = (\n",
    "        data[['shelter_costs_owned', 'shelter_costs_rented']]\n",
    "        .groupby([to_data.index])\n",
    "        .mean()\n",
    "        .round(2)\n",
    "    )\n",
    "\n",
    "    return average_monthly_shelter_costs_per_year\n"
   ]
  },
  {
   "cell_type": "markdown",
   "metadata": {},
   "source": [
    "### Panel Visualization Functions"
   ]
  },
  {
   "cell_type": "code",
   "execution_count": null,
   "metadata": {},
   "outputs": [],
   "source": [
    "# Define Panel visualization functions\n",
    "def neighbourhood_map(data):\n",
    "    \"\"\"Neighbourhood Map\"\"\"\n",
    "    average_values_scatter_plot = px.scatter_mapbox(\n",
    "        data,\n",
    "        lat='lat',\n",
    "        lon='lon',\n",
    "        color='average_house_value',\n",
    "        size='average_house_value',\n",
    "        color_continuous_scale='Viridis',\n",
    "        size_max=11,\n",
    "        zoom=9.2,\n",
    "        hover_data={\n",
    "            'neighbourhood': True,\n",
    "            'lat': False,\n",
    "            'lon': False\n",
    "        }\n",
    "    )\n",
    "\n",
    "    return average_values_scatter_plot\n",
    "    \n",
    "\n",
    "def create_bar_chart(data, title, xlabel, ylabel, color):\n",
    "    \"\"\"\n",
    "    Create a barplot based in the data argument.\n",
    "    \"\"\"\n",
    "    bar_chart = data.plot.bar(\n",
    "        xlabel=xlabel, \n",
    "        ylabel=ylabel, \n",
    "        color=color, \n",
    "        title=title, \n",
    "        figsize=(10,5), \n",
    "        rot=65\n",
    "    )\n",
    "\n",
    "    bar_chart.get_legend().remove()\n",
    "\n",
    "    return bar_chart\n",
    "    \n",
    "\n",
    "def create_line_chart(data, title, xlabel, ylabel, color):\n",
    "    \"\"\"\n",
    "    Create a line chart based in the data argument.\n",
    "    \"\"\"\n",
    "    line_chart = data.plot.line(\n",
    "        xlabel=xlabel, \n",
    "        ylabel=ylabel, \n",
    "        color=color, \n",
    "        title=title, \n",
    "        figsize=(15,5)\n",
    "    )\n",
    "\n",
    "    line_chart.get_legend().remove()\n",
    "\n",
    "    return line_chart\n",
    "    \n",
    "\n",
    "def average_house_value(data):\n",
    "    \"\"\"\n",
    "    Average house values per year.\n",
    "    \"\"\"\n",
    "    average_house_value_per_year = (\n",
    "        data[['average_house_value']]\n",
    "        .groupby([to_data.index])\n",
    "        .mean()\n",
    "        .round(2)\n",
    "    )\n",
    "\n",
    "    return average_house_value_per_year\n",
    "    \n",
    "\n",
    "def average_house_value_by_neighbourhood(data):\n",
    "    \"\"\"\n",
    "    Average house values by neighbourhood.\n",
    "    \"\"\"\n",
    "    average_house_value_by_neighbourhood = (\n",
    "        data[['neighbourhood', 'average_house_value']]\n",
    "        .groupby([to_data.index, 'neighbourhood'])\n",
    "        .mean()\n",
    "        .astype(int, copy=True)\n",
    "    )\n",
    "\n",
    "    return average_house_value_by_neighbourhood\n",
    "    \n",
    "\n",
    "def number_dwelling_types(data):\n",
    "    \"\"\"\n",
    "    Number of dwelling types per year\n",
    "    \"\"\"\n",
    "    dwelling_types_per_year = (\n",
    "        data\n",
    "        .groupby([to_data.index])\n",
    "        .sum()\n",
    "    )\n",
    "\n",
    "    dwelling_types_per_year.drop(columns=[\n",
    "            'average_house_value', \n",
    "            'shelter_costs_owned', \n",
    "            'shelter_costs_rented'\n",
    "        ], \n",
    "        inplace=True\n",
    "    )\n",
    "\n",
    "    return dwelling_types_per_year\n",
    "    \n",
    "\n",
    "def average_house_value_snapshot():\n",
    "    \"\"\"\n",
    "    Average house value for all Toronto's neighbourhoods per year.\n",
    "    \"\"\"\n",
    "    average_house_value_snapshot = (\n",
    "        average_house_value_by_neighbourhood().reset_index()\n",
    "    )\n",
    "\n",
    "    average_house_value_snapshot.columns = [\n",
    "        'Year', \n",
    "        'Neighbourhood', \n",
    "        'Avg. House Value'\n",
    "    ]\n",
    "\n",
    "    return average_house_value_snapshot\n",
    "    \n",
    "\n",
    "def top_most_expensive_neighbourhoods(data):\n",
    "    \"\"\"\n",
    "    Top 10 most expensive neighbourhoods.\n",
    "    \"\"\"\n",
    "    top_ten_2001 = data[data['year'] == 2001][:10]\n",
    "    top_ten_2011 = data[data['year'] == 2011][:10]\n",
    "    top_ten_2006 = data[data['year'] == 2006][:10]\n",
    "    top_ten_2016 = data[data['year'] == 2016][:10]\n",
    "\n",
    "    # Join the dataframes\n",
    "    top_ten_expensive_neighbourhoods_per_year = pd.concat(\n",
    "        [top_ten_2001, top_ten_2006, top_ten_2011, top_ten_2016], \n",
    "        join='inner', \n",
    "        axis='rows'\n",
    "    )\n",
    "    \n",
    "\n",
    "def sunburts_cost_analysis(data):\n",
    "    \"\"\"\n",
    "    Sunburst chart to conduct a costs analysis of most expensive neighbourhoods \n",
    "    in Toronto per year.\n",
    "    \"\"\"\n",
    "    sunburst_chart = px.sunburst(\n",
    "        data, \n",
    "        path=['year', 'neighbourhood'], \n",
    "        values='average_house_value', \n",
    "        color='average_house_value', \n",
    "        color_continuous_scale='blues',\n",
    "    )\n",
    "\n",
    "    return sunburst_chart\n",
    "    "
   ]
  },
  {
   "cell_type": "markdown",
   "metadata": {},
   "source": [
    "## Panel Dashboard\n",
    "\n",
    "In this section, you will combine all of the plots into a single dashboard view using Panel. Be creative with your dashboard design!"
   ]
  },
  {
   "cell_type": "code",
   "execution_count": null,
   "metadata": {},
   "outputs": [],
   "source": [
    "# Create a Title for the Dashboard\n",
    "\n",
    "\n",
    "# Define a welcome text\n",
    "\n",
    "\n",
    "# Create a tab layout for the dashboard\n",
    "\n",
    "\n",
    "\n",
    "# Create the main dashboard\n"
   ]
  },
  {
   "cell_type": "markdown",
   "metadata": {},
   "source": [
    "## Serve the Panel Dashboard"
   ]
  },
  {
   "cell_type": "code",
   "execution_count": null,
   "metadata": {},
   "outputs": [],
   "source": [
    "dashboard.servable()"
   ]
  },
  {
   "cell_type": "markdown",
   "metadata": {},
   "source": [
    "# Debugging\n",
    "\n",
    "Note: Some of the Plotly express plots may not render in the notebook through the panel functions.\n",
    "\n",
    "However, you can test each plot by uncommenting the following code"
   ]
  },
  {
   "cell_type": "code",
   "execution_count": null,
   "metadata": {},
   "outputs": [],
   "source": [
    "# neighbourhood_map().show()"
   ]
  },
  {
   "cell_type": "code",
   "execution_count": null,
   "metadata": {},
   "outputs": [],
   "source": [
    "# create_bar_chart(data, title, xlabel, ylabel, color)\n",
    "\n",
    "# # Bar chart for 2001\n",
    "# create_bar_chart(df_dwelling_units.loc[2001], \"Dwelling Types in Toronto in 2001\", \"2001\", \"Dwelling Type Units\", \"red\")\n",
    "\n",
    "# # Bar chart for 2006\n",
    "# create_bar_chart(df_dwelling_units.loc[2006], \"Dwelling Types in Toronto in 2006\", \"2006\", \"Dwelling Type Units\", \"blue\")\n",
    "\n",
    "# # Bar chart for 2011\n",
    "# create_bar_chart(df_dwelling_units.loc[2011], \"Dwelling Types in Toronto in 2011\", \"2011\", \"Dwelling Type Units\", \"orange\")\n",
    "\n",
    "# # Bar chart for 2016\n",
    "# create_bar_chart(df_dwelling_units.loc[2016], \"Dwelling Types in Toronto in 2016\", \"2016\", \"Dwelling Type Units\", \"magenta\")"
   ]
  },
  {
   "cell_type": "code",
   "execution_count": null,
   "metadata": {},
   "outputs": [],
   "source": [
    "# create_line_chart(data, title, xlabel, ylabel, color)\n",
    "\n",
    "# # Line chart for owned dwellings\n",
    "# create_line_chart(df_avg_costs[\"shelter_costs_owned\"], \"Average Monthly Shelter Cost for Owned Dwellings in Toronto\", \"Year\", \"Avg Monthly Shelter Costs\", \"blue\")\n",
    "\n",
    "# # Line chart for rented dwellings\n",
    "# create_line_chart(df_avg_costs[\"shelter_costs_rented\"], \"Average Monthly Shelter Cost for Rented Dwellings in Toronto\", \"Year\", \"Avg Monthly Shelter Costs\", \"orange\")"
   ]
  },
  {
   "cell_type": "code",
   "execution_count": null,
   "metadata": {},
   "outputs": [],
   "source": [
    "# average_house_value()"
   ]
  },
  {
   "cell_type": "code",
   "execution_count": null,
   "metadata": {},
   "outputs": [],
   "source": [
    "# average_value_by_neighbourhood()"
   ]
  },
  {
   "cell_type": "code",
   "execution_count": null,
   "metadata": {},
   "outputs": [],
   "source": [
    "# number_dwelling_types()"
   ]
  },
  {
   "cell_type": "code",
   "execution_count": null,
   "metadata": {},
   "outputs": [],
   "source": [
    "# average_house_value_snapshot()"
   ]
  },
  {
   "cell_type": "code",
   "execution_count": null,
   "metadata": {},
   "outputs": [],
   "source": [
    "# top_most_expensive_neighbourhoods()"
   ]
  },
  {
   "cell_type": "code",
   "execution_count": null,
   "metadata": {},
   "outputs": [],
   "source": [
    "# sunburts_cost_analysis()"
   ]
  }
 ],
 "metadata": {
  "file_extension": ".py",
  "interpreter": {
   "hash": "70258ac2307775ea3b2356ae640b2cec78ea29d8e88ec85f576a7eb81644faaf"
  },
  "kernelspec": {
   "display_name": "Python [conda env:pyvizenv25] *",
   "language": "python",
   "name": "python3"
  },
  "language_info": {
   "codemirror_mode": {
    "name": "ipython",
    "version": 3
   },
   "file_extension": ".py",
   "mimetype": "text/x-python",
   "name": "python",
   "nbconvert_exporter": "python",
   "pygments_lexer": "ipython3",
   "version": "3.7.11"
  },
  "mimetype": "text/x-python",
  "name": "python",
  "npconvert_exporter": "python",
  "pygments_lexer": "ipython3",
  "version": 3
 },
 "nbformat": 4,
 "nbformat_minor": 4
}
