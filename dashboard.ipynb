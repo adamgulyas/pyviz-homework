{
 "cells": [
  {
   "cell_type": "markdown",
   "metadata": {},
   "source": [
    "# Toronto Dwellings Analysis Dashboard\n",
    "\n",
    "In this notebook, you will compile the visualizations from the previous analysis into functions to create a Panel dashboard."
   ]
  },
  {
   "cell_type": "code",
   "execution_count": 40,
   "metadata": {},
   "outputs": [],
   "source": [
    "# imports\n",
    "import panel as pn\n",
    "pn.extension('plotly')\n",
    "import plotly.express as px\n",
    "import pandas as pd\n",
    "import hvplot.pandas\n",
    "import matplotlib.pyplot as plt\n",
    "import os\n",
    "from pathlib import Path\n",
    "from dotenv import load_dotenv"
   ]
  },
  {
   "cell_type": "code",
   "execution_count": 41,
   "metadata": {},
   "outputs": [],
   "source": [
    "# Initialize the Panel Extensions (for Plotly)\n",
    "import panel as pn\n",
    "pn.extension(\"plotly\")"
   ]
  },
  {
   "cell_type": "code",
   "execution_count": 42,
   "metadata": {},
   "outputs": [],
   "source": [
    "# Read the Mapbox API key\n",
    "load_dotenv()\n",
    "map_box_api = os.getenv(\"mapbox\")\n",
    "px.set_mapbox_access_token(map_box_api)"
   ]
  },
  {
   "cell_type": "markdown",
   "metadata": {},
   "source": [
    "# Import Data"
   ]
  },
  {
   "cell_type": "code",
   "execution_count": 43,
   "metadata": {},
   "outputs": [],
   "source": [
    "# Import the CSVs to Pandas DataFrames\n",
    "file_path = Path(\"./data/toronto_neighbourhoods_census_data.csv\")\n",
    "to_data = pd.read_csv(file_path, index_col=\"year\")\n",
    "\n",
    "file_path = Path(\"./data/toronto_neighbourhoods_coordinates.csv\")\n",
    "neighbourhood_locations = pd.read_csv(file_path)"
   ]
  },
  {
   "cell_type": "markdown",
   "metadata": {},
   "source": [
    "- - -"
   ]
  },
  {
   "cell_type": "markdown",
   "metadata": {},
   "source": [
    "## Panel Visualizations\n",
    "\n",
    "In this section, you will copy the code for each plot type from your analysis notebook and place it into separate functions that Panel can use to create panes for the dashboard. \n",
    "\n",
    "These functions will convert the plot object to a Panel pane.\n",
    "\n",
    "Be sure to include any DataFrame transformation/manipulation code required along with the plotting code.\n",
    "\n",
    "Return a Panel pane object from each function that can be used to build the dashboard.\n",
    "\n",
    "Note: Remove any `.show()` lines from the code. We want to return the plots instead of showing them. The Panel dashboard will then display the plots."
   ]
  },
  {
   "cell_type": "markdown",
   "metadata": {},
   "source": [
    "### Global available data"
   ]
  },
  {
   "cell_type": "code",
   "execution_count": 44,
   "metadata": {},
   "outputs": [],
   "source": [
    "# Getting the data from the top 10 expensive neighbourhoods\n",
    "def top_ten_expensive_neighbourhoods(data):\n",
    "    \n",
    "    most_expensive_neighbourhoods = (\n",
    "        data[['neighbourhood', 'average_house_value']]\n",
    "        .groupby(['neighbourhood'])\n",
    "        .mean()\n",
    "        .sort_values(by='average_house_value', ascending=False)\n",
    "    )\n",
    "\n",
    "    return most_expensive_neighbourhoods[:10]\n",
    "\n",
    "\n",
    "# Calculate the mean number of dwelling types units per year\n",
    "def mean_dwelling_types_per_year(data):\n",
    "\n",
    "    dwelling_types = data.drop(columns=data.iloc[:,9:])\n",
    "\n",
    "    mean_dwelling_types_per_year = (\n",
    "        dwelling_types\n",
    "        .groupby([dwelling_types.index, 'neighbourhood'])\n",
    "        .mean()\n",
    "        .astype(int)\n",
    "    )\n",
    "\n",
    "    return mean_dwelling_types_per_year\n",
    "\n",
    "# Calculate the average monthly shelter costs for owned and rented dwellings\n",
    "def average_monthly_shelter_costs(data):\n",
    "\n",
    "    average_monthly_shelter_costs_per_year = (\n",
    "        data[['shelter_costs_owned', 'shelter_costs_rented']]\n",
    "        .groupby([to_data.index])\n",
    "        .mean()\n",
    "        .round(2)\n",
    "    )\n",
    "\n",
    "    return average_monthly_shelter_costs_per_year\n"
   ]
  },
  {
   "cell_type": "markdown",
   "metadata": {},
   "source": [
    "### Panel Visualization Functions"
   ]
  },
  {
   "cell_type": "code",
   "execution_count": 65,
   "metadata": {},
   "outputs": [],
   "source": [
    "# Define Panel visualization functions\n",
    "def neighbourhood_map(data):\n",
    "    \"\"\"Neighbourhood Map\"\"\"\n",
    "    average_house_value = average_house_value_by_neighbourhood(data)\n",
    "\n",
    "    scatter_plot = px.scatter_mapbox(\n",
    "        average_house_value,\n",
    "        lat='lat',\n",
    "        lon='lon',\n",
    "        color='average_house_value',\n",
    "        size='average_house_value',\n",
    "        color_continuous_scale='Viridis',\n",
    "        size_max=11,\n",
    "        zoom=9.2,\n",
    "        mapbox_style='carto-positron',\n",
    "        hover_data={\n",
    "            'neighbourhood': True,\n",
    "            'lat': False,\n",
    "            'lon': False\n",
    "        }\n",
    "    )\n",
    "\n",
    "    return scatter_plot\n",
    "    \n",
    "\n",
    "def create_bar_chart(data, title, xlabel, ylabel, color):\n",
    "    \"\"\"\n",
    "    Create a barplot based in the data argument.\n",
    "    \"\"\"\n",
    "    bar_chart = data.figure.bar(\n",
    "        xlabel=xlabel, \n",
    "        ylabel=ylabel, \n",
    "        color=color, \n",
    "        title=title, \n",
    "        figsize=(10,5), \n",
    "        rot=65\n",
    "    )\n",
    "\n",
    "    # bar_chart.get_legend().remove()\n",
    "\n",
    "    return bar_chart\n",
    "    \n",
    "\n",
    "def create_line_chart(data, title, xlabel, ylabel, color):\n",
    "    \"\"\"\n",
    "    Create a line chart based in the data argument.\n",
    "    \"\"\"\n",
    "    line_chart = data.plot.line(\n",
    "        xlabel=xlabel, \n",
    "        ylabel=ylabel, \n",
    "        color=color, \n",
    "        title=title, \n",
    "        figsize=(15,5)\n",
    "    )\n",
    "\n",
    "    line_chart.get_legend().remove()\n",
    "\n",
    "    return line_chart\n",
    "    \n",
    "\n",
    "def average_house_value(data):\n",
    "    \"\"\"\n",
    "    Average house values per year.\n",
    "    \"\"\"\n",
    "    average_house_value_per_year = (\n",
    "        data[['average_house_value']]\n",
    "        .groupby([data.index])\n",
    "        .mean()\n",
    "        .round(2)\n",
    "    )\n",
    "\n",
    "    return average_house_value_per_year\n",
    "    \n",
    "\n",
    "def average_house_value_by_neighbourhood(data):\n",
    "    \"\"\"\n",
    "    Average house values by neighbourhood.\n",
    "    \"\"\"\n",
    "    neighbourhood_mean_values = (\n",
    "        data\n",
    "        .groupby(['neighbourhood'])\n",
    "        .mean()\n",
    "    )\n",
    "\n",
    "    merged_housing_data = neighbourhood_locations.merge(\n",
    "        neighbourhood_mean_values, \n",
    "        left_on='neighbourhood', \n",
    "        right_on='neighbourhood'\n",
    "    )\n",
    "\n",
    "    return merged_housing_data\n",
    "    \n",
    "\n",
    "def number_dwelling_types(data):\n",
    "    \"\"\"\n",
    "    Number of dwelling types per year\n",
    "    \"\"\"\n",
    "    dwelling_types_per_year = (\n",
    "        data\n",
    "        .groupby([data.index])\n",
    "        .sum()\n",
    "    )\n",
    "\n",
    "    dwelling_types_per_year.drop(columns=[\n",
    "            'average_house_value', \n",
    "            'shelter_costs_owned', \n",
    "            'shelter_costs_rented'\n",
    "        ], \n",
    "        inplace=True\n",
    "    )\n",
    "\n",
    "    return dwelling_types_per_year\n",
    "    \n",
    "\n",
    "def average_house_value_snapshot():\n",
    "    \"\"\"\n",
    "    Average house value for all Toronto's neighbourhoods per year.\n",
    "    \"\"\"\n",
    "    average_house_value_snapshot = (\n",
    "        average_house_value_by_neighbourhood().reset_index()\n",
    "    )\n",
    "\n",
    "    average_house_value_snapshot.columns = [\n",
    "        'Year', \n",
    "        'Neighbourhood', \n",
    "        'Avg. House Value'\n",
    "    ]\n",
    "\n",
    "    return average_house_value_snapshot\n",
    "    \n",
    "\n",
    "def top_most_expensive_neighbourhoods(data):\n",
    "    \"\"\"\n",
    "    Top 10 most expensive neighbourhoods.\n",
    "    \"\"\"\n",
    "    top_ten_2001 = data[data['year'] == 2001][:10]\n",
    "    top_ten_2011 = data[data['year'] == 2011][:10]\n",
    "    top_ten_2006 = data[data['year'] == 2006][:10]\n",
    "    top_ten_2016 = data[data['year'] == 2016][:10]\n",
    "\n",
    "    # Join the dataframes\n",
    "    top_ten_expensive_neighbourhoods_per_year = pd.concat(\n",
    "        [top_ten_2001, top_ten_2006, top_ten_2011, top_ten_2016], \n",
    "        join='inner', \n",
    "        axis='rows'\n",
    "    )\n",
    "    \n",
    "\n",
    "def sunburts_cost_analysis(data):\n",
    "    \"\"\"\n",
    "    Sunburst chart to conduct a costs analysis of most expensive\n",
    "    neighbourhoods in Toronto per year.\n",
    "    \"\"\"\n",
    "    sunburst_chart = px.sunburst(\n",
    "        data, \n",
    "        path=['year', 'neighbourhood'], \n",
    "        values='average_house_value', \n",
    "        color='average_house_value', \n",
    "        color_continuous_scale='blues',\n",
    "    )\n",
    "\n",
    "    return sunburst_chart\n",
    "    "
   ]
  },
  {
   "cell_type": "markdown",
   "metadata": {},
   "source": [
    "## Panel Dashboard\n",
    "\n",
    "In this section, you will combine all of the plots into a single dashboard view using Panel. Be creative with your dashboard design!"
   ]
  },
  {
   "cell_type": "code",
   "execution_count": 66,
   "metadata": {},
   "outputs": [
    {
     "data": {
      "image/png": "[encoded data removed]",
      "text/plain": [
       "<Figure size 720x360 with 1 Axes>"
      ]
     },
     "metadata": {
      "needs_background": "light"
     },
     "output_type": "display_data"
    }
   ],
   "source": [
    "# Create a Title for the Dashboard\n",
    "dashboard = pn.Column('## Real Estate Analysis of Toronto from 2001 to 2016')\n",
    "\n",
    "\n",
    "# Define a welcome text\n",
    "welcome_message = '''\n",
    "Welcome to Toronto's Real Estate Analysis dashboard. In this dashboard \n",
    "you will find historical house values, dwelling types by neghbourhood and \n",
    "their associated costs over the years. Navigate through the tabs above to \n",
    "see more details on the evolution of Toronto's real estate market.\"\n",
    "'''\n",
    "\n",
    "# Create the Welcome view\n",
    "scatter_plot = neighbourhood_map(to_data)\n",
    "welcome_column = pn.Column(\n",
    "    welcome_message,\n",
    "    scatter_plot\n",
    ")\n",
    "\n",
    "# Create the Yearly Market Analysis view\n",
    "dwelling_types_per_year = number_dwelling_types(to_data)\n",
    "bar_chart_2001 = create_bar_chart(\n",
    "    dwelling_types_per_year.loc[2001], \n",
    "    'Dwelling Types in Toronto in 2001', \n",
    "    '2001', \n",
    "    'Dwelling Type Units', \n",
    "    'DodgerBlue'\n",
    ")\n",
    "bar_chart_2006 = create_bar_chart(\n",
    "    dwelling_types_per_year.loc[2006], \n",
    "    'Dwelling Types in Toronto in 2006', \n",
    "    '2006', \n",
    "    'Dwelling Type Units', \n",
    "    'DeepPink'\n",
    ")\n",
    "bar_chart_2011 = create_bar_chart(\n",
    "    dwelling_types_per_year.loc[2011], \n",
    "    'Dwelling Types in Toronto in 2006', \n",
    "    '2011', \n",
    "    'Dwelling Type Units', \n",
    "    'LimeGreen'\n",
    ")\n",
    "bar_chart_2016 = create_bar_chart(\n",
    "    dwelling_types_per_year.loc[2016], \n",
    "    'Dwelling Types in Toronto in 2016', \n",
    "    '2016', \n",
    "    'Dwelling Type Units', \n",
    "    'DarkViolet'\n",
    ")\n",
    "yearly_market_analysis_column = pn.Column(\n",
    "    bar_chart_2001,\n",
    "    bar_chart_2006,\n",
    "    bar_chart_2011,\n",
    "    bar_chart_2016,\n",
    ")\n",
    "\n",
    "\n",
    "\n",
    "# Create a tab layout for the dashboard\n",
    "dashboard = pn.Tabs(\n",
    "    (\"Welcome\", welcome_column),\n",
    "    (\"Yearly Market Analysis\", yearly_market_analysis_column),\n",
    "    # (\"Shelter Costs vs. House Value\", geo_column),\n",
    "    # (\"Neighbourhood Analysis\", geo_column),\n",
    "    # (\"Top Expensive Neighbourhoods\", geo_column),\n",
    ")"
   ]
  },
  {
   "cell_type": "markdown",
   "metadata": {},
   "source": [
    "## Serve the Panel Dashboard"
   ]
  },
  {
   "cell_type": "code",
   "execution_count": 67,
   "metadata": {},
   "outputs": [
    {
     "data": {
      "application/vnd.jupyter.widget-view+json": {
       "model_id": "383067cb3f4e49868ca8ea6629c39d1b",
       "version_major": 2,
       "version_minor": 0
      },
      "text/plain": [
       "BokehModel(combine_events=True, render_bundle={'docs_json': {'cac1aea4-307f-4123-83af-3a0dd1f72fcd': {'defs': …"
      ]
     },
     "metadata": {},
     "output_type": "display_data"
    },
    {
     "data": {
      "text/html": [
       "<div style=\"display: none\"></div>"
      ],
      "text/plain": [
       "Tabs\n",
       "    [0] Column\n",
       "        [0] Markdown(str)\n",
       "        [1] Plotly(Figure)\n",
       "    [1] Column\n",
       "        [0] Str(AxesSubplot)\n",
       "        [1] Str(AxesSubplot)\n",
       "        [2] Str(AxesSubplot)\n",
       "        [3] Str(AxesSubplot)"
      ]
     },
     "execution_count": 67,
     "metadata": {},
     "output_type": "execute_result"
    }
   ],
   "source": [
    "dashboard.servable()"
   ]
  },
  {
   "cell_type": "markdown",
   "metadata": {},
   "source": [
    "# Debugging\n",
    "\n",
    "Note: Some of the Plotly express plots may not render in the notebook through the panel functions.\n",
    "\n",
    "However, you can test each plot by uncommenting the following code"
   ]
  },
  {
   "cell_type": "code",
   "execution_count": 48,
   "metadata": {},
   "outputs": [
    {
     "data": {
      "application/vnd.plotly.v1+json": {
       "config": {
        "plotlyServerURL": "https://plot.ly"
       },
       "data": [
        {
         "customdata": [
          [
           "Agincourt North",
           43.80544058,
           -79.26671217
          ],
          [
           "Agincourt South-Malvern West",
           43.78865755,
           -79.2656118
          ],
          [
           "Alderwood",
           43.6049369,
           -79.54161093
          ],
          [
           "Annex",
           43.67158544,
           -79.40400062
          ],
          [
           "Banbury-Don Mills",
           43.737657,
           -79.34971798
          ],
          [
           "Bathurst Manor",
           43.76481331,
           -79.45605516
          ],
          [
           "Bay Street Corridor",
           43.65751135,
           -79.38572125
          ],
          [
           "Bayview Village",
           43.77636052,
           -79.37711686
          ],
          [
           "Bayview Woods-Steeles",
           43.79680187,
           -79.38211795
          ],
          [
           "Bedford Park-Nortown",
           43.73148623,
           -79.42022735
          ],
          [
           "Beechborough-Greenbrook",
           43.69321649,
           -79.47947251
          ],
          [
           "Bendale",
           43.76036631,
           -79.25740037
          ],
          [
           "Birchcliffe-Cliffside",
           43.69468198,
           -79.26509259
          ],
          [
           "Black Creek",
           43.76489025,
           -79.52197932
          ],
          [
           "Blake-Jones",
           43.67617288,
           -79.33739417
          ],
          [
           "Briar Hill-Belgravia",
           43.69902438,
           -79.4528513
          ],
          [
           "Bridle Path-Sunnybrook-York Mills",
           43.73101314,
           -79.37890418
          ],
          [
           "Broadview North",
           43.68882512,
           -79.35562951
          ],
          [
           "Brookhaven-Amesbury",
           43.70132631,
           -79.48558926
          ],
          [
           "Cabbagetown-South St.James Town",
           43.66764773,
           -79.36610666
          ],
          [
           "Caledonia-Fairbank",
           43.68856865,
           -79.45521208
          ],
          [
           "Casa Loma",
           43.6818521,
           -79.40800665
          ],
          [
           "Centennial Scarborough",
           43.7823765,
           -79.15084327
          ],
          [
           "Church-Yonge Corridor",
           43.65964886,
           -79.37901717
          ],
          [
           "Clairlea-Birchmount",
           43.71359238,
           -79.28138178
          ],
          [
           "Clanton Park",
           43.74197843,
           -79.44630258
          ],
          [
           "Cliffcrest",
           43.72112117,
           -79.23552957
          ],
          [
           "Corso Italia-Davenport",
           43.67766091,
           -79.44746933
          ],
          [
           "Danforth",
           43.68402547,
           -79.32981941
          ],
          [
           "Danforth-East York",
           43.68946809,
           -79.33140338
          ],
          [
           "Don Valley Village",
           43.78329369,
           -79.35364413
          ],
          [
           "Dorset Park",
           43.75927437,
           -79.27890794
          ],
          [
           "Dovercourt-Wallace Emerson-Juncti",
           43.66567693,
           -79.4385407
          ],
          [
           "Downsview-Roding-CFB",
           43.73329235,
           -79.49049735
          ],
          [
           "Dufferin Grove",
           43.65542833,
           -79.43734104
          ],
          [
           "East End-Danforth",
           43.68417388,
           -79.29935867
          ],
          [
           "Edenbridge-Humber Valley",
           43.67088591,
           -79.52245776
          ],
          [
           "Eglinton East",
           43.7409223,
           -79.24559804
          ],
          [
           "Elms-Old Rexdale",
           43.72151887,
           -79.54898272
          ],
          [
           "Englemount-Lawrence",
           43.72034467,
           -79.43740855
          ],
          [
           "Eringate-Centennial-West Deane",
           43.65801676,
           -79.58044524
          ],
          [
           "Etobicoke West Mall",
           43.64506262,
           -79.56893877
          ],
          [
           "Flemingdon Park",
           43.71592975,
           -79.33264597
          ],
          [
           "Forest Hill North",
           43.70421756,
           -79.42814316
          ],
          [
           "Forest Hill South",
           43.69452576,
           -79.41431786
          ],
          [
           "Glenfield-Jane Heights",
           43.74563575,
           -79.51346532
          ],
          [
           "Greenwood-Coxwell",
           43.67261231,
           -79.32431802
          ],
          [
           "Guildwood",
           43.74882934,
           -79.19505535
          ],
          [
           "Henry Farm",
           43.77114414,
           -79.34124067
          ],
          [
           "High Park North",
           43.65756491,
           -79.46630217
          ],
          [
           "High Park-Swansea",
           43.64506458,
           -79.46787222
          ],
          [
           "Highland Creek",
           43.79077477,
           -79.17747247
          ],
          [
           "Hillcrest Village",
           43.80298783,
           -79.354804
          ],
          [
           "Humber Heights-Westmount",
           43.6922328,
           -79.5224162
          ],
          [
           "Humber Summit",
           43.75891975,
           -79.55617474
          ],
          [
           "Humbermede",
           43.74342952,
           -79.54236712
          ],
          [
           "Humewood-Cedarvale",
           43.69136981,
           -79.42768335
          ],
          [
           "Ionview",
           43.73536441,
           -79.27247049
          ],
          [
           "Islington-City Centre West",
           43.63346335,
           -79.54331654
          ],
          [
           "Junction Area",
           43.66788977,
           -79.47143987
          ],
          [
           "Keelesdale-Eglinton West",
           43.68572747,
           -79.47143711
          ],
          [
           "Kennedy Park",
           43.72555572,
           -79.26038221
          ],
          [
           "Kensington-Chinatown",
           43.65355413,
           -79.39723988
          ],
          [
           "Kingsview Village-The Westway",
           43.69899257,
           -79.54786331
          ],
          [
           "Kingsway South",
           43.65352043,
           -79.5105768
          ],
          [
           "L'Amoreaux",
           43.79571603,
           -79.31408424
          ],
          [
           "Lambton Baby Point",
           43.65742013,
           -79.49604526
          ],
          [
           "Lansing-Westgate",
           43.75427115,
           -79.42474772
          ],
          [
           "Lawrence Park North",
           43.73006017,
           -79.40397836
          ],
          [
           "Lawrence Park South",
           43.7172117,
           -79.40603941
          ],
          [
           "Leaside-Bennington",
           43.70379663,
           -79.36607234
          ],
          [
           "Little Portugal",
           43.64753593,
           -79.43032271
          ],
          [
           "Long Branch",
           43.59236169,
           -79.53334545
          ],
          [
           "Malvern",
           43.8036582,
           -79.22251662
          ],
          [
           "Maple Leaf",
           43.71557394,
           -79.48075802
          ],
          [
           "Markland Wood",
           43.63354175,
           -79.57343155
          ],
          [
           "Milliken",
           43.82069079,
           -79.27500892
          ],
          [
           "Mimico",
           43.61592386,
           -79.50013664
          ],
          [
           "Morningside",
           43.78239861,
           -79.20704119
          ],
          [
           "Moss Park",
           43.65651762,
           -79.36729703
          ],
          [
           "Mount Dennis",
           43.68814409,
           -79.49998906
          ],
          [
           "Mount Olive-Silverstone-Jamestown",
           43.7468678,
           -79.58725926
          ],
          [
           "Mount Pleasant East",
           43.70485217,
           -79.38492395
          ],
          [
           "Mount Pleasant West",
           43.70443517,
           -79.39335955
          ],
          [
           "New Toronto",
           43.6005886,
           -79.51035809
          ],
          [
           "Newtonbrook East",
           43.79153579,
           -79.40593745
          ],
          [
           "Newtonbrook West",
           43.78582994,
           -79.43142151
          ],
          [
           "Niagara",
           43.63668088,
           -79.4124204
          ],
          [
           "North Riverdale",
           43.67199515,
           -79.35126041
          ],
          [
           "North St.James Town",
           43.66962341,
           -79.37524658
          ],
          [
           "O'Connor-Parkview",
           43.70680049,
           -79.31222777
          ],
          [
           "Oakridge",
           43.69740813,
           -79.27970834
          ],
          [
           "Oakwood Village",
           43.68856556,
           -79.43978548
          ],
          [
           "Old East York",
           43.69678127,
           -79.33548836
          ],
          [
           "Palmerston-Little Italy",
           43.6591571,
           -79.41840873
          ],
          [
           "Parkwoods-Donalda",
           43.75503347,
           -79.33017952
          ],
          [
           "Pelmo Park-Humberlea",
           43.7175146,
           -79.5282822
          ],
          [
           "Playter Estates-Danforth",
           43.67970047,
           -79.35488729
          ],
          [
           "Pleasant View",
           43.78698176,
           -79.33494843
          ],
          [
           "Princess-Rosethorn",
           43.6660506,
           -79.54455929
          ],
          [
           "Regent Park",
           43.65999214,
           -79.36050881
          ],
          [
           "Rexdale-Kipling",
           43.72372548,
           -79.56622841
          ],
          [
           "Rockcliffe-Smythe",
           43.67479045,
           -79.49442045
          ],
          [
           "Roncesvalles",
           43.64612299,
           -79.44299245
          ],
          [
           "Rosedale-Moore Park",
           43.68282043,
           -79.3796694
          ],
          [
           "Rouge",
           43.82120126,
           -79.18634345
          ],
          [
           "Runnymede-Bloor West Village",
           43.65926882,
           -79.48570818
          ],
          [
           "Rustic",
           43.71160912,
           -79.49809147
          ],
          [
           "Scarborough Village",
           43.73865186,
           -79.21681262
          ],
          [
           "South Parkdale",
           43.63669952,
           -79.43933783
          ],
          [
           "South Riverdale",
           43.64929206,
           -79.33565132
          ],
          [
           "St.Andrew-Windfields",
           43.75624583,
           -79.37903709
          ],
          [
           "Steeles",
           43.81295883,
           -79.32120701
          ],
          [
           "Stonegate-Queensway",
           43.63551813,
           -79.50112821
          ],
          [
           "Tam O'Shanter-Sullivan",
           43.78012985,
           -79.30291871
          ],
          [
           "Taylor-Massey",
           43.69499819,
           -79.29590112
          ],
          [
           "The Beaches",
           43.67104999,
           -79.2996013
          ],
          [
           "Thistletown-Beaumond Heights",
           43.73798792,
           -79.56349102
          ],
          [
           "Thorncliffe Park",
           43.70774921,
           -79.34998361
          ],
          [
           "Trinity-Bellwoods",
           43.6501763,
           -79.41534216
          ],
          [
           "University",
           43.6625062,
           -79.40117975
          ],
          [
           "Victoria Village",
           43.72848902,
           -79.31487383
          ],
          [
           "Waterfront Communities-The Island",
           43.63388036,
           -79.37720231
          ],
          [
           "West Hill",
           43.76749026,
           -79.17667603
          ],
          [
           "West Humber-Clairville",
           43.7161804,
           -79.59635645
          ],
          [
           "Westminster-Branson",
           43.77881322,
           -79.45241823
          ],
          [
           "Weston",
           43.70271605,
           -79.51572255
          ],
          [
           "Weston-Pellam Park",
           43.67396204,
           -79.46024391
          ],
          [
           "Wexford/Maryvale",
           43.74857214,
           -79.29863657
          ],
          [
           "Willowdale East",
           43.77060226,
           -79.40148379
          ],
          [
           "Willowdale West",
           43.77121049,
           -79.4275578
          ],
          [
           "Willowridge-Martingrove-Richview",
           43.68364496,
           -79.55422105
          ],
          [
           "Woburn",
           43.76674024,
           -79.22858577
          ],
          [
           "Woodbine Corridor",
           43.67677292,
           -79.31540738
          ],
          [
           "Woodbine-Lumsden",
           43.69410674,
           -79.31116353
          ],
          [
           "Wychwood",
           43.67691927,
           -79.42551495
          ],
          [
           "Yonge-Eglinton",
           43.70468937,
           -79.40359017
          ],
          [
           "Yonge-St.Clair",
           43.68785887,
           -79.39787077
          ],
          [
           "York University Heights",
           43.76573649,
           -79.48888293
          ],
          [
           "Yorkdale-Glen Park",
           43.71467153,
           -79.45710807
          ]
         ],
         "hovertemplate": "average_house_value=%{marker.color}<br>neighbourhood=%{customdata[0]}<extra></extra>",
         "lat": [
          43.80544058,
          43.78865755,
          43.6049369,
          43.67158544,
          43.737657,
          43.76481331,
          43.65751135,
          43.77636052,
          43.79680187,
          43.73148623,
          43.69321649,
          43.76036631,
          43.69468198,
          43.76489025,
          43.67617288,
          43.69902438,
          43.73101314,
          43.68882512,
          43.70132631,
          43.66764773,
          43.68856865,
          43.6818521,
          43.7823765,
          43.65964886,
          43.71359238,
          43.74197843,
          43.72112117,
          43.67766091,
          43.68402547,
          43.68946809,
          43.78329369,
          43.75927437,
          43.66567693,
          43.73329235,
          43.65542833,
          43.68417388,
          43.67088591,
          43.7409223,
          43.72151887,
          43.72034467,
          43.65801676,
          43.64506262,
          43.71592975,
          43.70421756,
          43.69452576,
          43.74563575,
          43.67261231,
          43.74882934,
          43.77114414,
          43.65756491,
          43.64506458,
          43.79077477,
          43.80298783,
          43.6922328,
          43.75891975,
          43.74342952,
          43.69136981,
          43.73536441,
          43.63346335,
          43.66788977,
          43.68572747,
          43.72555572,
          43.65355413,
          43.69899257,
          43.65352043,
          43.79571603,
          43.65742013,
          43.75427115,
          43.73006017,
          43.7172117,
          43.70379663,
          43.64753593,
          43.59236169,
          43.8036582,
          43.71557394,
          43.63354175,
          43.82069079,
          43.61592386,
          43.78239861,
          43.65651762,
          43.68814409,
          43.7468678,
          43.70485217,
          43.70443517,
          43.6005886,
          43.79153579,
          43.78582994,
          43.63668088,
          43.67199515,
          43.66962341,
          43.70680049,
          43.69740813,
          43.68856556,
          43.69678127,
          43.6591571,
          43.75503347,
          43.7175146,
          43.67970047,
          43.78698176,
          43.6660506,
          43.65999214,
          43.72372548,
          43.67479045,
          43.64612299,
          43.68282043,
          43.82120126,
          43.65926882,
          43.71160912,
          43.73865186,
          43.63669952,
          43.64929206,
          43.75624583,
          43.81295883,
          43.63551813,
          43.78012985,
          43.69499819,
          43.67104999,
          43.73798792,
          43.70774921,
          43.6501763,
          43.6625062,
          43.72848902,
          43.63388036,
          43.76749026,
          43.7161804,
          43.77881322,
          43.70271605,
          43.67396204,
          43.74857214,
          43.77060226,
          43.77121049,
          43.68364496,
          43.76674024,
          43.67677292,
          43.69410674,
          43.67691927,
          43.70468937,
          43.68785887,
          43.76573649,
          43.71467153
         ],
         "legendgroup": "",
         "lon": [
          -79.26671217,
          -79.2656118,
          -79.54161093,
          -79.40400062,
          -79.34971798,
          -79.45605516,
          -79.38572125,
          -79.37711686,
          -79.38211795,
          -79.42022735,
          -79.47947251,
          -79.25740037,
          -79.26509259,
          -79.52197932,
          -79.33739417,
          -79.4528513,
          -79.37890418,
          -79.35562951,
          -79.48558926,
          -79.36610666,
          -79.45521208,
          -79.40800665,
          -79.15084327,
          -79.37901717,
          -79.28138178,
          -79.44630258,
          -79.23552957,
          -79.44746933,
          -79.32981941,
          -79.33140338,
          -79.35364413,
          -79.27890794,
          -79.4385407,
          -79.49049735,
          -79.43734104,
          -79.29935867,
          -79.52245776,
          -79.24559804,
          -79.54898272,
          -79.43740855,
          -79.58044524,
          -79.56893877,
          -79.33264597,
          -79.42814316,
          -79.41431786,
          -79.51346532,
          -79.32431802,
          -79.19505535,
          -79.34124067,
          -79.46630217,
          -79.46787222,
          -79.17747247,
          -79.354804,
          -79.5224162,
          -79.55617474,
          -79.54236712,
          -79.42768335,
          -79.27247049,
          -79.54331654,
          -79.47143987,
          -79.47143711,
          -79.26038221,
          -79.39723988,
          -79.54786331,
          -79.5105768,
          -79.31408424,
          -79.49604526,
          -79.42474772,
          -79.40397836,
          -79.40603941,
          -79.36607234,
          -79.43032271,
          -79.53334545,
          -79.22251662,
          -79.48075802,
          -79.57343155,
          -79.27500892,
          -79.50013664,
          -79.20704119,
          -79.36729703,
          -79.49998906,
          -79.58725926,
          -79.38492395,
          -79.39335955,
          -79.51035809,
          -79.40593745,
          -79.43142151,
          -79.4124204,
          -79.35126041,
          -79.37524658,
          -79.31222777,
          -79.27970834,
          -79.43978548,
          -79.33548836,
          -79.41840873,
          -79.33017952,
          -79.5282822,
          -79.35488729,
          -79.33494843,
          -79.54455929,
          -79.36050881,
          -79.56622841,
          -79.49442045,
          -79.44299245,
          -79.3796694,
          -79.18634345,
          -79.48570818,
          -79.49809147,
          -79.21681262,
          -79.43933783,
          -79.33565132,
          -79.37903709,
          -79.32120701,
          -79.50112821,
          -79.30291871,
          -79.29590112,
          -79.2996013,
          -79.56349102,
          -79.34998361,
          -79.41534216,
          -79.40117975,
          -79.31487383,
          -79.37720231,
          -79.17667603,
          -79.59635645,
          -79.45241823,
          -79.51572255,
          -79.46024391,
          -79.29863657,
          -79.40148379,
          -79.4275578,
          -79.55422105,
          -79.22858577,
          -79.31540738,
          -79.31116353,
          -79.42551495,
          -79.40359017,
          -79.39787077,
          -79.48888293,
          -79.45710807
         ],
         "marker": {
          "color": [
           329811.5,
           334189,
           427922.5,
           746977,
           612039,
           501576.75,
           423653.5,
           539258.75,
           565413.5,
           930415.25,
           370927.75,
           301123.25,
           437315,
           260841.75,
           511437,
           365524.5,
           1526485.75,
           443373.25,
           350943,
           494110.5,
           361714.25,
           981064.25,
           409862.75,
           406117.5,
           354555.25,
           551561.25,
           417422,
           419930.5,
           466943,
           421679.25,
           398010.25,
           262000.25,
           434699.5,
           381415.5,
           457588.75,
           478054.25,
           796162.5,
           268966.5,
           268341.25,
           568936.75,
           397781.75,
           309412,
           207799,
           851680.5,
           1195992.5,
           327597.75,
           387055.5,
           369373.5,
           369958,
           532497,
           582977.75,
           428838.5,
           395023,
           449150.5,
           352082.5,
           319783.75,
           697085.5,
           287685.75,
           451685.25,
           433269.25,
           322774.75,
           287233.5,
           440485.75,
           338344.75,
           843234.25,
           650307.75,
           336617.75,
           613216.5,
           759392.5,
           1094027.75,
           806471.75,
           540192.5,
           385830.25,
           256880.25,
           453229,
           443974.75,
           344988.25,
           393490.5,
           285013.5,
           409456,
           262308.75,
           253182.25,
           677370.25,
           468181.75,
           407812,
           559573.25,
           460568.5,
           369993,
           703063.25,
           411455.75,
           298315.75,
           422257.5,
           441202.75,
           443413.5,
           622191.75,
           454652.5,
           405431.25,
           648859.25,
           373375.25,
           765746.5,
           392578.25,
           360999.25,
           345660.25,
           508937.25,
           1093640,
           376286.75,
           552082,
           431090.5,
           329835.75,
           447478.5,
           455020.5,
           999107,
           376014.5,
           550432.25,
           353926.5,
           239414,
           666306,
           375864,
           255264.75,
           534465.75,
           618316.75,
           352133,
           376863,
           284647.5,
           343254.25,
           349320.25,
           308007.75,
           351802,
           348319.25,
           469045.5,
           466134.75,
           464278,
           298505.75,
           445382.75,
           369918.5,
           565976.5,
           809745.75,
           813220.25,
           305899.5,
           430861.25
          ],
          "coloraxis": "coloraxis",
          "size": [
           329811.5,
           334189,
           427922.5,
           746977,
           612039,
           501576.75,
           423653.5,
           539258.75,
           565413.5,
           930415.25,
           370927.75,
           301123.25,
           437315,
           260841.75,
           511437,
           365524.5,
           1526485.75,
           443373.25,
           350943,
           494110.5,
           361714.25,
           981064.25,
           409862.75,
           406117.5,
           354555.25,
           551561.25,
           417422,
           419930.5,
           466943,
           421679.25,
           398010.25,
           262000.25,
           434699.5,
           381415.5,
           457588.75,
           478054.25,
           796162.5,
           268966.5,
           268341.25,
           568936.75,
           397781.75,
           309412,
           207799,
           851680.5,
           1195992.5,
           327597.75,
           387055.5,
           369373.5,
           369958,
           532497,
           582977.75,
           428838.5,
           395023,
           449150.5,
           352082.5,
           319783.75,
           697085.5,
           287685.75,
           451685.25,
           433269.25,
           322774.75,
           287233.5,
           440485.75,
           338344.75,
           843234.25,
           650307.75,
           336617.75,
           613216.5,
           759392.5,
           1094027.75,
           806471.75,
           540192.5,
           385830.25,
           256880.25,
           453229,
           443974.75,
           344988.25,
           393490.5,
           285013.5,
           409456,
           262308.75,
           253182.25,
           677370.25,
           468181.75,
           407812,
           559573.25,
           460568.5,
           369993,
           703063.25,
           411455.75,
           298315.75,
           422257.5,
           441202.75,
           443413.5,
           622191.75,
           454652.5,
           405431.25,
           648859.25,
           373375.25,
           765746.5,
           392578.25,
           360999.25,
           345660.25,
           508937.25,
           1093640,
           376286.75,
           552082,
           431090.5,
           329835.75,
           447478.5,
           455020.5,
           999107,
           376014.5,
           550432.25,
           353926.5,
           239414,
           666306,
           375864,
           255264.75,
           534465.75,
           618316.75,
           352133,
           376863,
           284647.5,
           343254.25,
           349320.25,
           308007.75,
           351802,
           348319.25,
           469045.5,
           466134.75,
           464278,
           298505.75,
           445382.75,
           369918.5,
           565976.5,
           809745.75,
           813220.25,
           305899.5,
           430861.25
          ],
          "sizemode": "area",
          "sizeref": 12615.584710743802
         },
         "mode": "markers",
         "name": "",
         "showlegend": false,
         "subplot": "mapbox",
         "type": "scattermapbox"
        }
       ],
       "layout": {
        "coloraxis": {
         "colorbar": {
          "title": {
           "text": "average_house_value"
          }
         },
         "colorscale": [
          [
           0,
           "#440154"
          ],
          [
           0.1111111111111111,
           "#482878"
          ],
          [
           0.2222222222222222,
           "#3e4989"
          ],
          [
           0.3333333333333333,
           "#31688e"
          ],
          [
           0.4444444444444444,
           "#26828e"
          ],
          [
           0.5555555555555556,
           "#1f9e89"
          ],
          [
           0.6666666666666666,
           "#35b779"
          ],
          [
           0.7777777777777778,
           "#6ece58"
          ],
          [
           0.8888888888888888,
           "#b5de2b"
          ],
          [
           1,
           "#fde725"
          ]
         ]
        },
        "legend": {
         "itemsizing": "constant",
         "tracegroupgap": 0
        },
        "mapbox": {
         "center": {
          "lat": 43.708840577642846,
          "lon": -79.4001855035
         },
         "domain": {
          "x": [
           0,
           1
          ],
          "y": [
           0,
           1
          ]
         },
         "style": "carto-darkmatter",
         "zoom": 9.2
        },
        "margin": {
         "t": 60
        },
        "template": {
         "data": {
          "bar": [
           {
            "error_x": {
             "color": "#2a3f5f"
            },
            "error_y": {
             "color": "#2a3f5f"
            },
            "marker": {
             "line": {
              "color": "#E5ECF6",
              "width": 0.5
             },
             "pattern": {
              "fillmode": "overlay",
              "size": 10,
              "solidity": 0.2
             }
            },
            "type": "bar"
           }
          ],
          "barpolar": [
           {
            "marker": {
             "line": {
              "color": "#E5ECF6",
              "width": 0.5
             },
             "pattern": {
              "fillmode": "overlay",
              "size": 10,
              "solidity": 0.2
             }
            },
            "type": "barpolar"
           }
          ],
          "carpet": [
           {
            "aaxis": {
             "endlinecolor": "#2a3f5f",
             "gridcolor": "white",
             "linecolor": "white",
             "minorgridcolor": "white",
             "startlinecolor": "#2a3f5f"
            },
            "baxis": {
             "endlinecolor": "#2a3f5f",
             "gridcolor": "white",
             "linecolor": "white",
             "minorgridcolor": "white",
             "startlinecolor": "#2a3f5f"
            },
            "type": "carpet"
           }
          ],
          "choropleth": [
           {
            "colorbar": {
             "outlinewidth": 0,
             "ticks": ""
            },
            "type": "choropleth"
           }
          ],
          "contour": [
           {
            "colorbar": {
             "outlinewidth": 0,
             "ticks": ""
            },
            "colorscale": [
             [
              0,
              "#0d0887"
             ],
             [
              0.1111111111111111,
              "#46039f"
             ],
             [
              0.2222222222222222,
              "#7201a8"
             ],
             [
              0.3333333333333333,
              "#9c179e"
             ],
             [
              0.4444444444444444,
              "#bd3786"
             ],
             [
              0.5555555555555556,
              "#d8576b"
             ],
             [
              0.6666666666666666,
              "#ed7953"
             ],
             [
              0.7777777777777778,
              "#fb9f3a"
             ],
             [
              0.8888888888888888,
              "#fdca26"
             ],
             [
              1,
              "#f0f921"
             ]
            ],
            "type": "contour"
           }
          ],
          "contourcarpet": [
           {
            "colorbar": {
             "outlinewidth": 0,
             "ticks": ""
            },
            "type": "contourcarpet"
           }
          ],
          "heatmap": [
           {
            "colorbar": {
             "outlinewidth": 0,
             "ticks": ""
            },
            "colorscale": [
             [
              0,
              "#0d0887"
             ],
             [
              0.1111111111111111,
              "#46039f"
             ],
             [
              0.2222222222222222,
              "#7201a8"
             ],
             [
              0.3333333333333333,
              "#9c179e"
             ],
             [
              0.4444444444444444,
              "#bd3786"
             ],
             [
              0.5555555555555556,
              "#d8576b"
             ],
             [
              0.6666666666666666,
              "#ed7953"
             ],
             [
              0.7777777777777778,
              "#fb9f3a"
             ],
             [
              0.8888888888888888,
              "#fdca26"
             ],
             [
              1,
              "#f0f921"
             ]
            ],
            "type": "heatmap"
           }
          ],
          "heatmapgl": [
           {
            "colorbar": {
             "outlinewidth": 0,
             "ticks": ""
            },
            "colorscale": [
             [
              0,
              "#0d0887"
             ],
             [
              0.1111111111111111,
              "#46039f"
             ],
             [
              0.2222222222222222,
              "#7201a8"
             ],
             [
              0.3333333333333333,
              "#9c179e"
             ],
             [
              0.4444444444444444,
              "#bd3786"
             ],
             [
              0.5555555555555556,
              "#d8576b"
             ],
             [
              0.6666666666666666,
              "#ed7953"
             ],
             [
              0.7777777777777778,
              "#fb9f3a"
             ],
             [
              0.8888888888888888,
              "#fdca26"
             ],
             [
              1,
              "#f0f921"
             ]
            ],
            "type": "heatmapgl"
           }
          ],
          "histogram": [
           {
            "marker": {
             "pattern": {
              "fillmode": "overlay",
              "size": 10,
              "solidity": 0.2
             }
            },
            "type": "histogram"
           }
          ],
          "histogram2d": [
           {
            "colorbar": {
             "outlinewidth": 0,
             "ticks": ""
            },
            "colorscale": [
             [
              0,
              "#0d0887"
             ],
             [
              0.1111111111111111,
              "#46039f"
             ],
             [
              0.2222222222222222,
              "#7201a8"
             ],
             [
              0.3333333333333333,
              "#9c179e"
             ],
             [
              0.4444444444444444,
              "#bd3786"
             ],
             [
              0.5555555555555556,
              "#d8576b"
             ],
             [
              0.6666666666666666,
              "#ed7953"
             ],
             [
              0.7777777777777778,
              "#fb9f3a"
             ],
             [
              0.8888888888888888,
              "#fdca26"
             ],
             [
              1,
              "#f0f921"
             ]
            ],
            "type": "histogram2d"
           }
          ],
          "histogram2dcontour": [
           {
            "colorbar": {
             "outlinewidth": 0,
             "ticks": ""
            },
            "colorscale": [
             [
              0,
              "#0d0887"
             ],
             [
              0.1111111111111111,
              "#46039f"
             ],
             [
              0.2222222222222222,
              "#7201a8"
             ],
             [
              0.3333333333333333,
              "#9c179e"
             ],
             [
              0.4444444444444444,
              "#bd3786"
             ],
             [
              0.5555555555555556,
              "#d8576b"
             ],
             [
              0.6666666666666666,
              "#ed7953"
             ],
             [
              0.7777777777777778,
              "#fb9f3a"
             ],
             [
              0.8888888888888888,
              "#fdca26"
             ],
             [
              1,
              "#f0f921"
             ]
            ],
            "type": "histogram2dcontour"
           }
          ],
          "mesh3d": [
           {
            "colorbar": {
             "outlinewidth": 0,
             "ticks": ""
            },
            "type": "mesh3d"
           }
          ],
          "parcoords": [
           {
            "line": {
             "colorbar": {
              "outlinewidth": 0,
              "ticks": ""
             }
            },
            "type": "parcoords"
           }
          ],
          "pie": [
           {
            "automargin": true,
            "type": "pie"
           }
          ],
          "scatter": [
           {
            "marker": {
             "colorbar": {
              "outlinewidth": 0,
              "ticks": ""
             }
            },
            "type": "scatter"
           }
          ],
          "scatter3d": [
           {
            "line": {
             "colorbar": {
              "outlinewidth": 0,
              "ticks": ""
             }
            },
            "marker": {
             "colorbar": {
              "outlinewidth": 0,
              "ticks": ""
             }
            },
            "type": "scatter3d"
           }
          ],
          "scattercarpet": [
           {
            "marker": {
             "colorbar": {
              "outlinewidth": 0,
              "ticks": ""
             }
            },
            "type": "scattercarpet"
           }
          ],
          "scattergeo": [
           {
            "marker": {
             "colorbar": {
              "outlinewidth": 0,
              "ticks": ""
             }
            },
            "type": "scattergeo"
           }
          ],
          "scattergl": [
           {
            "marker": {
             "colorbar": {
              "outlinewidth": 0,
              "ticks": ""
             }
            },
            "type": "scattergl"
           }
          ],
          "scattermapbox": [
           {
            "marker": {
             "colorbar": {
              "outlinewidth": 0,
              "ticks": ""
             }
            },
            "type": "scattermapbox"
           }
          ],
          "scatterpolar": [
           {
            "marker": {
             "colorbar": {
              "outlinewidth": 0,
              "ticks": ""
             }
            },
            "type": "scatterpolar"
           }
          ],
          "scatterpolargl": [
           {
            "marker": {
             "colorbar": {
              "outlinewidth": 0,
              "ticks": ""
             }
            },
            "type": "scatterpolargl"
           }
          ],
          "scatterternary": [
           {
            "marker": {
             "colorbar": {
              "outlinewidth": 0,
              "ticks": ""
             }
            },
            "type": "scatterternary"
           }
          ],
          "surface": [
           {
            "colorbar": {
             "outlinewidth": 0,
             "ticks": ""
            },
            "colorscale": [
             [
              0,
              "#0d0887"
             ],
             [
              0.1111111111111111,
              "#46039f"
             ],
             [
              0.2222222222222222,
              "#7201a8"
             ],
             [
              0.3333333333333333,
              "#9c179e"
             ],
             [
              0.4444444444444444,
              "#bd3786"
             ],
             [
              0.5555555555555556,
              "#d8576b"
             ],
             [
              0.6666666666666666,
              "#ed7953"
             ],
             [
              0.7777777777777778,
              "#fb9f3a"
             ],
             [
              0.8888888888888888,
              "#fdca26"
             ],
             [
              1,
              "#f0f921"
             ]
            ],
            "type": "surface"
           }
          ],
          "table": [
           {
            "cells": {
             "fill": {
              "color": "#EBF0F8"
             },
             "line": {
              "color": "white"
             }
            },
            "header": {
             "fill": {
              "color": "#C8D4E3"
             },
             "line": {
              "color": "white"
             }
            },
            "type": "table"
           }
          ]
         },
         "layout": {
          "annotationdefaults": {
           "arrowcolor": "#2a3f5f",
           "arrowhead": 0,
           "arrowwidth": 1
          },
          "autotypenumbers": "strict",
          "coloraxis": {
           "colorbar": {
            "outlinewidth": 0,
            "ticks": ""
           }
          },
          "colorscale": {
           "diverging": [
            [
             0,
             "#8e0152"
            ],
            [
             0.1,
             "#c51b7d"
            ],
            [
             0.2,
             "#de77ae"
            ],
            [
             0.3,
             "#f1b6da"
            ],
            [
             0.4,
             "#fde0ef"
            ],
            [
             0.5,
             "#f7f7f7"
            ],
            [
             0.6,
             "#e6f5d0"
            ],
            [
             0.7,
             "#b8e186"
            ],
            [
             0.8,
             "#7fbc41"
            ],
            [
             0.9,
             "#4d9221"
            ],
            [
             1,
             "#276419"
            ]
           ],
           "sequential": [
            [
             0,
             "#0d0887"
            ],
            [
             0.1111111111111111,
             "#46039f"
            ],
            [
             0.2222222222222222,
             "#7201a8"
            ],
            [
             0.3333333333333333,
             "#9c179e"
            ],
            [
             0.4444444444444444,
             "#bd3786"
            ],
            [
             0.5555555555555556,
             "#d8576b"
            ],
            [
             0.6666666666666666,
             "#ed7953"
            ],
            [
             0.7777777777777778,
             "#fb9f3a"
            ],
            [
             0.8888888888888888,
             "#fdca26"
            ],
            [
             1,
             "#f0f921"
            ]
           ],
           "sequentialminus": [
            [
             0,
             "#0d0887"
            ],
            [
             0.1111111111111111,
             "#46039f"
            ],
            [
             0.2222222222222222,
             "#7201a8"
            ],
            [
             0.3333333333333333,
             "#9c179e"
            ],
            [
             0.4444444444444444,
             "#bd3786"
            ],
            [
             0.5555555555555556,
             "#d8576b"
            ],
            [
             0.6666666666666666,
             "#ed7953"
            ],
            [
             0.7777777777777778,
             "#fb9f3a"
            ],
            [
             0.8888888888888888,
             "#fdca26"
            ],
            [
             1,
             "#f0f921"
            ]
           ]
          },
          "colorway": [
           "#636efa",
           "#EF553B",
           "#00cc96",
           "#ab63fa",
           "#FFA15A",
           "#19d3f3",
           "#FF6692",
           "#B6E880",
           "#FF97FF",
           "#FECB52"
          ],
          "font": {
           "color": "#2a3f5f"
          },
          "geo": {
           "bgcolor": "white",
           "lakecolor": "white",
           "landcolor": "#E5ECF6",
           "showlakes": true,
           "showland": true,
           "subunitcolor": "white"
          },
          "hoverlabel": {
           "align": "left"
          },
          "hovermode": "closest",
          "mapbox": {
           "style": "light"
          },
          "paper_bgcolor": "white",
          "plot_bgcolor": "#E5ECF6",
          "polar": {
           "angularaxis": {
            "gridcolor": "white",
            "linecolor": "white",
            "ticks": ""
           },
           "bgcolor": "#E5ECF6",
           "radialaxis": {
            "gridcolor": "white",
            "linecolor": "white",
            "ticks": ""
           }
          },
          "scene": {
           "xaxis": {
            "backgroundcolor": "#E5ECF6",
            "gridcolor": "white",
            "gridwidth": 2,
            "linecolor": "white",
            "showbackground": true,
            "ticks": "",
            "zerolinecolor": "white"
           },
           "yaxis": {
            "backgroundcolor": "#E5ECF6",
            "gridcolor": "white",
            "gridwidth": 2,
            "linecolor": "white",
            "showbackground": true,
            "ticks": "",
            "zerolinecolor": "white"
           },
           "zaxis": {
            "backgroundcolor": "#E5ECF6",
            "gridcolor": "white",
            "gridwidth": 2,
            "linecolor": "white",
            "showbackground": true,
            "ticks": "",
            "zerolinecolor": "white"
           }
          },
          "shapedefaults": {
           "line": {
            "color": "#2a3f5f"
           }
          },
          "ternary": {
           "aaxis": {
            "gridcolor": "white",
            "linecolor": "white",
            "ticks": ""
           },
           "baxis": {
            "gridcolor": "white",
            "linecolor": "white",
            "ticks": ""
           },
           "bgcolor": "#E5ECF6",
           "caxis": {
            "gridcolor": "white",
            "linecolor": "white",
            "ticks": ""
           }
          },
          "title": {
           "x": 0.05
          },
          "xaxis": {
           "automargin": true,
           "gridcolor": "white",
           "linecolor": "white",
           "ticks": "",
           "title": {
            "standoff": 15
           },
           "zerolinecolor": "white",
           "zerolinewidth": 2
          },
          "yaxis": {
           "automargin": true,
           "gridcolor": "white",
           "linecolor": "white",
           "ticks": "",
           "title": {
            "standoff": 15
           },
           "zerolinecolor": "white",
           "zerolinewidth": 2
          }
         }
        }
       }
      }
     },
     "metadata": {},
     "output_type": "display_data"
    }
   ],
   "source": [
    "neighbourhood_map(to_data).show()"
   ]
  },
  {
   "cell_type": "code",
   "execution_count": 49,
   "metadata": {},
   "outputs": [],
   "source": [
    "# create_bar_chart(data, title, xlabel, ylabel, color)\n",
    "\n",
    "# # Bar chart for 2001\n",
    "# create_bar_chart(df_dwelling_units.loc[2001], \"Dwelling Types in Toronto in 2001\", \"2001\", \"Dwelling Type Units\", \"red\")\n",
    "\n",
    "# # Bar chart for 2006\n",
    "# create_bar_chart(df_dwelling_units.loc[2006], \"Dwelling Types in Toronto in 2006\", \"2006\", \"Dwelling Type Units\", \"blue\")\n",
    "\n",
    "# # Bar chart for 2011\n",
    "# create_bar_chart(df_dwelling_units.loc[2011], \"Dwelling Types in Toronto in 2011\", \"2011\", \"Dwelling Type Units\", \"orange\")\n",
    "\n",
    "# # Bar chart for 2016\n",
    "# create_bar_chart(df_dwelling_units.loc[2016], \"Dwelling Types in Toronto in 2016\", \"2016\", \"Dwelling Type Units\", \"magenta\")"
   ]
  },
  {
   "cell_type": "code",
   "execution_count": 50,
   "metadata": {},
   "outputs": [],
   "source": [
    "# create_line_chart(data, title, xlabel, ylabel, color)\n",
    "\n",
    "# # Line chart for owned dwellings\n",
    "# create_line_chart(df_avg_costs[\"shelter_costs_owned\"], \"Average Monthly Shelter Cost for Owned Dwellings in Toronto\", \"Year\", \"Avg Monthly Shelter Costs\", \"blue\")\n",
    "\n",
    "# # Line chart for rented dwellings\n",
    "# create_line_chart(df_avg_costs[\"shelter_costs_rented\"], \"Average Monthly Shelter Cost for Rented Dwellings in Toronto\", \"Year\", \"Avg Monthly Shelter Costs\", \"orange\")"
   ]
  },
  {
   "cell_type": "code",
   "execution_count": 51,
   "metadata": {},
   "outputs": [],
   "source": [
    "# average_house_value()"
   ]
  },
  {
   "cell_type": "code",
   "execution_count": 52,
   "metadata": {},
   "outputs": [],
   "source": [
    "# average_value_by_neighbourhood()"
   ]
  },
  {
   "cell_type": "code",
   "execution_count": 53,
   "metadata": {},
   "outputs": [],
   "source": [
    "# number_dwelling_types()"
   ]
  },
  {
   "cell_type": "code",
   "execution_count": 54,
   "metadata": {},
   "outputs": [],
   "source": [
    "# average_house_value_snapshot()"
   ]
  },
  {
   "cell_type": "code",
   "execution_count": 55,
   "metadata": {},
   "outputs": [],
   "source": [
    "# top_most_expensive_neighbourhoods()"
   ]
  },
  {
   "cell_type": "code",
   "execution_count": 56,
   "metadata": {},
   "outputs": [],
   "source": [
    "# sunburts_cost_analysis()"
   ]
  }
 ],
 "metadata": {
  "file_extension": ".py",
  "interpreter": {
   "hash": "70258ac2307775ea3b2356ae640b2cec78ea29d8e88ec85f576a7eb81644faaf"
  },
  "kernelspec": {
   "display_name": "Python [conda env:pyvizenv25] *",
   "language": "python",
   "name": "python3"
  },
  "language_info": {
   "codemirror_mode": {
    "name": "ipython",
    "version": 3
   },
   "file_extension": ".py",
   "mimetype": "text/x-python",
   "name": "python",
   "nbconvert_exporter": "python",
   "pygments_lexer": "ipython3",
   "version": "3.7.11"
  },
  "mimetype": "text/x-python",
  "name": "python",
  "npconvert_exporter": "python",
  "pygments_lexer": "ipython3",
  "version": 3
 },
 "nbformat": 4,
 "nbformat_minor": 4
}
